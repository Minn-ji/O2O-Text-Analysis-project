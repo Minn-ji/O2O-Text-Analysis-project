{
 "cells": [
  {
   "attachments": {},
   "cell_type": "markdown",
   "id": "164213d1",
   "metadata": {},
   "source": [
    "## 리뷰수 outlier 그래프 및 데이터 프레임 추출"
   ]
  },
  {
   "cell_type": "code",
   "execution_count": null,
   "id": "fe40eae9",
   "metadata": {},
   "outputs": [],
   "source": [
    "%cd ../\n",
    "%cd O2O-Text-Analysis-project"
   ]
  },
  {
   "cell_type": "code",
   "execution_count": null,
   "id": "0ef097e4",
   "metadata": {},
   "outputs": [],
   "source": [
    "import os\n",
    "import matplotlib.pyplot as plt\n",
    "import pandas as pd"
   ]
  },
  {
   "attachments": {},
   "cell_type": "markdown",
   "id": "1425d150",
   "metadata": {},
   "source": [
    "### Sentiment Data Load"
   ]
  },
  {
   "cell_type": "code",
   "execution_count": null,
   "id": "37047ac1",
   "metadata": {},
   "outputs": [],
   "source": [
    "df_yogiyo = pd.read_csv('result/yogiyo_sentiment_analyzed_with_model.csv')\n",
    "df_ddae = pd.read_csv('result/yeogi_sentiment_analyzed_with_model.csv')\n",
    "df_nol = pd.read_csv('result/nol_sentiment_analyzed_with_model.csv')\n",
    "df_skyscanner = pd.read_csv('result/skyscanner_sentiment_analyzed_with_model.csv')\n",
    "df_kakao = pd.read_csv('result/kakao_taxi_sentiment_analyzed_with_model.csv')\n",
    "df_uber = pd.read_csv('result/uber_taxi_sentiment_analyzed_with_model.csv')"
   ]
  },
  {
   "attachments": {},
   "cell_type": "markdown",
   "id": "e903aa36",
   "metadata": {},
   "source": [
    "### 이상치 그래프 저장"
   ]
  },
  {
   "cell_type": "code",
   "execution_count": null,
   "id": "44ed23ac",
   "metadata": {},
   "outputs": [],
   "source": [
    "def save_outlier_plots_by_df_dict(df_dict, years=range(2015, 2026), method='iqr', thresh=1.5, base_dir='outlier_plots'):\n",
    "\n",
    "    for name, df in df_dict.items():\n",
    "        print(f\"\\n📊 처리 중: {name}\")\n",
    "        save_dir = os.path.join(base_dir, name)\n",
    "        os.makedirs(save_dir, exist_ok=True)\n",
    "\n",
    "        if not pd.api.types.is_datetime64_any_dtype(df['date']):\n",
    "            df['date'] = pd.to_datetime(df['date'])\n",
    "\n",
    "        for year in years:\n",
    "            plt.figure(figsize=(18, 5))\n",
    "            year_df = df[df['date'].dt.year == year]\n",
    "\n",
    "            if year_df.empty:\n",
    "                print(f\"⚠️ {name} - {year} 데이터 없음, 스킵\")\n",
    "                plt.close()\n",
    "                continue\n",
    "\n",
    "            daily_counts = year_df['date'].dt.strftime('%m-%d').value_counts().sort_index()\n",
    "            all_days = pd.date_range(f'{year}-01-01', f'{year}-12-31')\n",
    "            all_mmdd = all_days.strftime('%m-%d')\n",
    "            daily_counts = daily_counts.reindex(all_mmdd, fill_value=0)\n",
    "            vals = daily_counts.values\n",
    "\n",
    "            if method == 'iqr':\n",
    "                q1 = pd.Series(vals).quantile(0.25)\n",
    "                q3 = pd.Series(vals).quantile(0.75)\n",
    "                iqr = q3 - q1\n",
    "                lower = q1 - thresh * iqr\n",
    "                upper = q3 + thresh * iqr\n",
    "                outlier_idx = (vals < lower) | (vals > upper)\n",
    "            else:  # std\n",
    "                mean = vals.mean()\n",
    "                std = vals.std()\n",
    "                lower = mean - thresh * std\n",
    "                upper = mean + thresh * std\n",
    "                outlier_idx = (vals < lower) | (vals > upper)\n",
    "\n",
    "            plt.plot(all_mmdd, vals, label=f'{year}')\n",
    "            plt.scatter(pd.Series(all_mmdd)[outlier_idx], vals[outlier_idx], color='red', s=40, zorder=10, label=f'{year} 이상치')\n",
    "\n",
    "            plt.title(f'{name} - {year} 연도별 일별 리뷰 개수 (이상치 표시)')\n",
    "            plt.xlabel('날짜 (MM-DD)')\n",
    "            plt.ylabel('리뷰 개수')\n",
    "            plt.legend()\n",
    "            plt.xticks(rotation=45, fontsize=8, ticks=range(0, 366, 15))\n",
    "            plt.tight_layout()\n",
    "            plt.grid(alpha=0.2)\n",
    "\n",
    "            filename = os.path.join(save_dir, f'{name}_{year}.png')\n",
    "            plt.savefig(filename)\n",
    "            plt.close()\n",
    "            print(f\"✅ 저장됨: {filename}\")"
   ]
  },
  {
   "attachments": {},
   "cell_type": "markdown",
   "id": "3d6bc8bd",
   "metadata": {},
   "source": [
    "### 이상치 Data 추출"
   ]
  },
  {
   "cell_type": "code",
   "execution_count": null,
   "id": "da6816d0",
   "metadata": {},
   "outputs": [],
   "source": [
    "def merge_intervals(intervals):\n",
    "    if not intervals:\n",
    "        return []\n",
    "    sorted_intervals = sorted(intervals, key=lambda x: x[0])\n",
    "    merged = [list(sorted_intervals[0])]\n",
    "    for start, end in sorted_intervals[1:]:\n",
    "        last_start, last_end = merged[-1]\n",
    "        if start <= last_end:\n",
    "            merged[-1][1] = max(last_end, end)\n",
    "        else:\n",
    "            merged.append([start, end])\n",
    "    return merged\n",
    "\n",
    "def extract_merged_outlier_segments(\n",
    "    df_dict,\n",
    "    years=range(2015, 2026),\n",
    "    method='iqr',\n",
    "    thresh=1.5,\n",
    "    window=14,\n",
    "    output_dir='outlier_segments'\n",
    "):\n",
    "    os.makedirs(output_dir, exist_ok=True)\n",
    "\n",
    "    for name, df in df_dict.items():\n",
    "        if not pd.api.types.is_datetime64_any_dtype(df['date']):\n",
    "            df['date'] = pd.to_datetime(df['date'])\n",
    "\n",
    "        outlier_dates = []\n",
    "        for year in years:\n",
    "            df_year = df[df['date'].dt.year == year]\n",
    "            if df_year.empty:\n",
    "                continue\n",
    "\n",
    "            counts = df_year['date'].dt.date.value_counts().sort_index()\n",
    "            all_days = pd.date_range(f'{year}-01-01', f'{year}-12-31').date\n",
    "            counts = pd.Series(counts, index=all_days).fillna(0)\n",
    "            vals = counts.values\n",
    "\n",
    "            if method == 'iqr':\n",
    "                q1, q3 = pd.Series(vals).quantile([0.25, 0.75])\n",
    "                iqr = q3 - q1\n",
    "                lower, upper = q1 - thresh * iqr, q3 + thresh * iqr\n",
    "            else:\n",
    "                mean, std = vals.mean(), vals.std()\n",
    "                lower, upper = mean - thresh * std, mean + thresh * std\n",
    "\n",
    "            outliers = counts[(counts < lower) | (counts > upper)].index\n",
    "            outlier_dates.extend(pd.to_datetime(outliers))\n",
    "\n",
    "        outlier_dates = sorted(set(outlier_dates))\n",
    "\n",
    "        raw_windows = [(d - pd.Timedelta(days=window), d + pd.Timedelta(days=window)) for d in outlier_dates]\n",
    "        merged_windows = merge_intervals(raw_windows)\n",
    "\n",
    "        for start, end in merged_windows:\n",
    "            segment_df = df[(df['date'] >= start) & (df['date'] <= end)].copy()\n",
    "            if not segment_df.empty:\n",
    "                filename = f\"result/{name}_{start.date()}~{end.date()}.csv\"\n",
    "                segment_df.to_csv(os.path.join(output_dir, filename), index=False)"
   ]
  },
  {
   "attachments": {},
   "cell_type": "markdown",
   "id": "df6baf2e",
   "metadata": {},
   "source": [
    "### 실행"
   ]
  },
  {
   "cell_type": "code",
   "execution_count": null,
   "id": "cf4fff55",
   "metadata": {},
   "outputs": [],
   "source": [
    "df_dict = {\n",
    "    \"ddae\": df_ddae,\n",
    "    \"nol\": df_nol,\n",
    "    \"skyscanner\": df_skyscanner,\n",
    "    \"yogiyo\": df_yogiyo,\n",
    "    \"kakao\": df_kakao,\n",
    "    \"uber\": df_uber\n",
    "}\n",
    "\n",
    "save_outlier_plots_by_df_dict(df_dict, years=range(2015, 2026))\n",
    "extract_merged_outlier_segments(df_dict)"
   ]
  }
 ],
 "metadata": {
  "kernelspec": {
   "display_name": "base",
   "language": "python",
   "name": "python3"
  },
  "language_info": {
   "name": "python",
   "version": "3.12.7"
  }
 },
 "nbformat": 4,
 "nbformat_minor": 5
}
